{
 "cells": [
  {
   "cell_type": "code",
   "execution_count": 3,
   "metadata": {},
   "outputs": [],
   "source": [
    "import tensorflow as tf"
   ]
  },
  {
   "cell_type": "code",
   "execution_count": 13,
   "metadata": {},
   "outputs": [
    {
     "data": {
      "text/plain": [
       "2"
      ]
     },
     "execution_count": 13,
     "metadata": {},
     "output_type": "execute_result"
    }
   ],
   "source": [
    "# constants\n",
    "a = tf.constant(2)\n",
    "b = tf.constant(3)\n",
    "c = a + b # seems like we want to do addition(doesn't actually doing addition)\n",
    "sess = tf.Session()\n",
    "sess.run(c) #evaluates now\n",
    "a #still a tensor object\n",
    "a_val = sess.run(a) #returns the value of a\n",
    "a_val #python variable to store the value"
   ]
  },
  {
   "cell_type": "code",
   "execution_count": 17,
   "metadata": {},
   "outputs": [
    {
     "data": {
      "text/plain": [
       "array([[18]], dtype=int32)"
      ]
     },
     "execution_count": 17,
     "metadata": {},
     "output_type": "execute_result"
    }
   ],
   "source": [
    "a1 = tf.constant([[3,3]])\n",
    "a2 = tf.constant([[3],[3]])\n",
    "tf.matmul(a1,a2) #tensor function to multiply 2 matrices(gives shape of the final matrix but doesn't evaluate yet)\n",
    "sess.run(tf.matmul(a1,a2))"
   ]
  },
  {
   "cell_type": "code",
   "execution_count": 21,
   "metadata": {},
   "outputs": [
    {
     "name": "stdout",
     "output_type": "stream",
     "text": [
      "5\n",
      "5\n"
     ]
    }
   ],
   "source": [
    "# session\n",
    "a = tf.constant(2)\n",
    "b = tf.constant(3)\n",
    "c =tf.add(a, b)\n",
    "#Everything that we want to do with the session we will write below this \"with\" block\n",
    "with tf.Session() as sess :\n",
    "    print(sess.run(c))\n",
    "    print(c.eval()) #We can do this as well in the with block.It uses default session here"
   ]
  },
  {
   "cell_type": "code",
   "execution_count": 36,
   "metadata": {},
   "outputs": [
    {
     "name": "stdout",
     "output_type": "stream",
     "text": [
      "103\n",
      "100\n"
     ]
    },
    {
     "data": {
      "text/plain": [
       "1235"
      ]
     },
     "execution_count": 36,
     "metadata": {},
     "output_type": "execute_result"
    }
   ],
   "source": [
    "# variables\n",
    "var1 = tf.Variable(100) #we can also pass a scope to use local variables\n",
    "var1 #gives tensor flow variable\n",
    "var2 = tf.Variable(3)\n",
    "sum = tf.add(var1,var2)\n",
    "sess = tf.Session()\n",
    "# sess.run(sum) -Gives error as we need to explicitly initialise variables\n",
    "sess.run(tf.global_variables_initializer())\n",
    "print(sess.run(sum)) #Now works\n",
    "\n",
    "\n",
    "var1.assign(1232)\n",
    "print(sess.run(var1)) #variable 1 value is still 100\n",
    "sess.run(var1.assign(1232))\n",
    "sess.run(var1) #Now value of variable changes\n",
    "sess.run(sum) #Sum also changes"
   ]
  },
  {
   "cell_type": "code",
   "execution_count": 44,
   "metadata": {},
   "outputs": [
    {
     "name": "stdout",
     "output_type": "stream",
     "text": [
      "120\n",
      "[120 240]\n"
     ]
    }
   ],
   "source": [
    "x = tf.placeholder(tf.int32)\n",
    "# We can also pass shape of placeholder\n",
    "#By default shape is none so we can use any shape later on\n",
    "# If we specify a shape initially then we have to stick to that\n",
    "y = tf.constant(12)\n",
    "#sess.run(x) #Error - We must feed a value to placeholder\n",
    "sess.run(y) # No error as y is a constant\n",
    "z = x * y\n",
    "#sess.run(z) # Error as x is a placeholder and hasn't been given any value\n",
    "print(sess.run(z,feed_dict={x : 10}))\n",
    "print(sess.run(z,feed_dict ={x : [10,20]}))"
   ]
  }
 ],
 "metadata": {
  "kernelspec": {
   "display_name": "Python 3",
   "language": "python",
   "name": "python3"
  },
  "language_info": {
   "codemirror_mode": {
    "name": "ipython",
    "version": 3
   },
   "file_extension": ".py",
   "mimetype": "text/x-python",
   "name": "python",
   "nbconvert_exporter": "python",
   "pygments_lexer": "ipython3",
   "version": "3.6.8"
  }
 },
 "nbformat": 4,
 "nbformat_minor": 2
}
